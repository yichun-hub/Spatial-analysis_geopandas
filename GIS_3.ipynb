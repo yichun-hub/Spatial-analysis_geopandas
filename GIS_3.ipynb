{
 "cells": [
  {
   "cell_type": "code",
   "execution_count": 53,
   "metadata": {},
   "outputs": [],
   "source": [
    "import pandas as pd\n",
    "import matplotlib.pyplot as plt\n",
    "import geopandas as gpd\n",
    "import numpy as np"
   ]
  },
  {
   "cell_type": "markdown",
   "metadata": {},
   "source": [
    "Group by"
   ]
  },
  {
   "cell_type": "code",
   "execution_count": 54,
   "metadata": {},
   "outputs": [],
   "source": [
    "Youbike_rent = pd.read_csv('./202302_YouBike2.0_rent_1000.csv', encoding = \"Big5\") "
   ]
  },
  {
   "cell_type": "code",
   "execution_count": 55,
   "metadata": {},
   "outputs": [
    {
     "data": {
      "text/plain": [
       "rent_station\n",
       "世貿三館          9\n",
       "中華南海路口        1\n",
       "五分埔公園         5\n",
       "信義基隆路口        5\n",
       "信義松德路口        3\n",
       "             ..\n",
       "開封西寧路口       14\n",
       "雙園國中          2\n",
       "青年公園棒球場       1\n",
       "青年公園籃球場       2\n",
       "青年公園高爾夫球場     1\n",
       "Length: 106, dtype: int64"
      ]
     },
     "execution_count": 55,
     "metadata": {},
     "output_type": "execute_result"
    }
   ],
   "source": [
    "Youbike_groupby = Youbike_rent.groupby(['rent_station']).size()\n",
    "Youbike_groupby"
   ]
  },
  {
   "cell_type": "markdown",
   "metadata": {},
   "source": [
    "Spatial Join"
   ]
  },
  {
   "cell_type": "code",
   "execution_count": 67,
   "metadata": {},
   "outputs": [],
   "source": [
    "## geocoding\n",
    "from geopy.geocoders import Nominatim\n",
    "geolocator = Nominatim(user_agent=\"my-exercise\")\n",
    "\n",
    "def geocoder(row):\n",
    "    try:\n",
    "        point = geolocator.geocode(row, country_codes = \"TW\").point\n",
    "        return pd.Series({'Latitude': point.latitude, 'Longitude': point.longitude})\n",
    "    except:\n",
    "        return None"
   ]
  },
  {
   "cell_type": "code",
   "execution_count": 68,
   "metadata": {},
   "outputs": [],
   "source": [
    "Youbike_rent[['Latitude', 'Longitude']] = Youbike_rent.apply(lambda x: geocoder(x['rent_station']), axis=1)"
   ]
  },
  {
   "cell_type": "code",
   "execution_count": 69,
   "metadata": {},
   "outputs": [
    {
     "data": {
      "text/html": [
       "<div>\n",
       "<style scoped>\n",
       "    .dataframe tbody tr th:only-of-type {\n",
       "        vertical-align: middle;\n",
       "    }\n",
       "\n",
       "    .dataframe tbody tr th {\n",
       "        vertical-align: top;\n",
       "    }\n",
       "\n",
       "    .dataframe thead th {\n",
       "        text-align: right;\n",
       "    }\n",
       "</style>\n",
       "<table border=\"1\" class=\"dataframe\">\n",
       "  <thead>\n",
       "    <tr style=\"text-align: right;\">\n",
       "      <th></th>\n",
       "      <th>rent_time</th>\n",
       "      <th>rent_station</th>\n",
       "      <th>return_time</th>\n",
       "      <th>return_station</th>\n",
       "      <th>rent</th>\n",
       "      <th>infodate</th>\n",
       "      <th>Latitude</th>\n",
       "      <th>Longitude</th>\n",
       "    </tr>\n",
       "  </thead>\n",
       "  <tbody>\n",
       "    <tr>\n",
       "      <th>0</th>\n",
       "      <td>2023/2/11 12:00</td>\n",
       "      <td>捷運民權西路站(3號出口)</td>\n",
       "      <td>2023/2/11 13:00</td>\n",
       "      <td>捷運民權西路站(3號出口)</td>\n",
       "      <td>01:02:23</td>\n",
       "      <td>2023/2/11</td>\n",
       "      <td>25.06129</td>\n",
       "      <td>121.52021</td>\n",
       "    </tr>\n",
       "    <tr>\n",
       "      <th>1</th>\n",
       "      <td>2023/2/11 22:00</td>\n",
       "      <td>景美醫院</td>\n",
       "      <td>2023/2/11 23:00</td>\n",
       "      <td>新生和平路口東北側</td>\n",
       "      <td>00:37:03</td>\n",
       "      <td>2023/2/11</td>\n",
       "      <td>24.99136</td>\n",
       "      <td>121.54008</td>\n",
       "    </tr>\n",
       "    <tr>\n",
       "      <th>2</th>\n",
       "      <td>2023/2/11 03:00</td>\n",
       "      <td>基隆忠孝路口西南側</td>\n",
       "      <td>2023/2/11 03:00</td>\n",
       "      <td>中全公園</td>\n",
       "      <td>00:08:42</td>\n",
       "      <td>2023/2/11</td>\n",
       "      <td>25.04108</td>\n",
       "      <td>121.56290</td>\n",
       "    </tr>\n",
       "    <tr>\n",
       "      <th>3</th>\n",
       "      <td>2023/2/11 11:00</td>\n",
       "      <td>基隆忠孝路口西南側</td>\n",
       "      <td>2023/2/11 11:00</td>\n",
       "      <td>基隆忠孝路口西南側</td>\n",
       "      <td>00:15:54</td>\n",
       "      <td>2023/2/11</td>\n",
       "      <td>25.04108</td>\n",
       "      <td>121.56290</td>\n",
       "    </tr>\n",
       "    <tr>\n",
       "      <th>4</th>\n",
       "      <td>2023/2/11 11:00</td>\n",
       "      <td>基隆忠孝路口西南側</td>\n",
       "      <td>2023/2/11 11:00</td>\n",
       "      <td>復興市民路口</td>\n",
       "      <td>00:15:08</td>\n",
       "      <td>2023/2/11</td>\n",
       "      <td>25.04108</td>\n",
       "      <td>121.56290</td>\n",
       "    </tr>\n",
       "  </tbody>\n",
       "</table>\n",
       "</div>"
      ],
      "text/plain": [
       "         rent_time   rent_station      return_time return_station      rent  \\\n",
       "0  2023/2/11 12:00  捷運民權西路站(3號出口)  2023/2/11 13:00  捷運民權西路站(3號出口)  01:02:23   \n",
       "1  2023/2/11 22:00           景美醫院  2023/2/11 23:00      新生和平路口東北側  00:37:03   \n",
       "2  2023/2/11 03:00      基隆忠孝路口西南側  2023/2/11 03:00           中全公園  00:08:42   \n",
       "3  2023/2/11 11:00      基隆忠孝路口西南側  2023/2/11 11:00      基隆忠孝路口西南側  00:15:54   \n",
       "4  2023/2/11 11:00      基隆忠孝路口西南側  2023/2/11 11:00         復興市民路口  00:15:08   \n",
       "\n",
       "    infodate  Latitude  Longitude  \n",
       "0  2023/2/11  25.06129  121.52021  \n",
       "1  2023/2/11  24.99136  121.54008  \n",
       "2  2023/2/11  25.04108  121.56290  \n",
       "3  2023/2/11  25.04108  121.56290  \n",
       "4  2023/2/11  25.04108  121.56290  "
      ]
     },
     "execution_count": 69,
     "metadata": {},
     "output_type": "execute_result"
    }
   ],
   "source": [
    "Youbike_rent.head()"
   ]
  },
  {
   "cell_type": "code",
   "execution_count": 70,
   "metadata": {},
   "outputs": [],
   "source": [
    "Youbike_rent.to_csv(\"./Youbike_withCoord.csv\", encoding = \"Big5\" )"
   ]
  },
  {
   "cell_type": "code",
   "execution_count": 72,
   "metadata": {},
   "outputs": [
    {
     "data": {
      "text/html": [
       "<div>\n",
       "<style scoped>\n",
       "    .dataframe tbody tr th:only-of-type {\n",
       "        vertical-align: middle;\n",
       "    }\n",
       "\n",
       "    .dataframe tbody tr th {\n",
       "        vertical-align: top;\n",
       "    }\n",
       "\n",
       "    .dataframe thead th {\n",
       "        text-align: right;\n",
       "    }\n",
       "</style>\n",
       "<table border=\"1\" class=\"dataframe\">\n",
       "  <thead>\n",
       "    <tr style=\"text-align: right;\">\n",
       "      <th></th>\n",
       "      <th>rent_time</th>\n",
       "      <th>rent_station</th>\n",
       "      <th>return_time</th>\n",
       "      <th>return_station</th>\n",
       "      <th>rent</th>\n",
       "      <th>infodate</th>\n",
       "      <th>Latitude</th>\n",
       "      <th>Longitude</th>\n",
       "      <th>geometry</th>\n",
       "    </tr>\n",
       "  </thead>\n",
       "  <tbody>\n",
       "    <tr>\n",
       "      <th>0</th>\n",
       "      <td>2023/2/11 12:00</td>\n",
       "      <td>捷運民權西路站(3號出口)</td>\n",
       "      <td>2023/2/11 13:00</td>\n",
       "      <td>捷運民權西路站(3號出口)</td>\n",
       "      <td>01:02:23</td>\n",
       "      <td>2023/2/11</td>\n",
       "      <td>25.06129</td>\n",
       "      <td>121.52021</td>\n",
       "      <td>POINT (121.52021 25.06129)</td>\n",
       "    </tr>\n",
       "    <tr>\n",
       "      <th>1</th>\n",
       "      <td>2023/2/11 22:00</td>\n",
       "      <td>景美醫院</td>\n",
       "      <td>2023/2/11 23:00</td>\n",
       "      <td>新生和平路口東北側</td>\n",
       "      <td>00:37:03</td>\n",
       "      <td>2023/2/11</td>\n",
       "      <td>24.99136</td>\n",
       "      <td>121.54008</td>\n",
       "      <td>POINT (121.54008 24.99136)</td>\n",
       "    </tr>\n",
       "    <tr>\n",
       "      <th>2</th>\n",
       "      <td>2023/2/11 03:00</td>\n",
       "      <td>基隆忠孝路口西南側</td>\n",
       "      <td>2023/2/11 03:00</td>\n",
       "      <td>中全公園</td>\n",
       "      <td>00:08:42</td>\n",
       "      <td>2023/2/11</td>\n",
       "      <td>25.04108</td>\n",
       "      <td>121.56290</td>\n",
       "      <td>POINT (121.56290 25.04108)</td>\n",
       "    </tr>\n",
       "    <tr>\n",
       "      <th>3</th>\n",
       "      <td>2023/2/11 11:00</td>\n",
       "      <td>基隆忠孝路口西南側</td>\n",
       "      <td>2023/2/11 11:00</td>\n",
       "      <td>基隆忠孝路口西南側</td>\n",
       "      <td>00:15:54</td>\n",
       "      <td>2023/2/11</td>\n",
       "      <td>25.04108</td>\n",
       "      <td>121.56290</td>\n",
       "      <td>POINT (121.56290 25.04108)</td>\n",
       "    </tr>\n",
       "    <tr>\n",
       "      <th>4</th>\n",
       "      <td>2023/2/11 11:00</td>\n",
       "      <td>基隆忠孝路口西南側</td>\n",
       "      <td>2023/2/11 11:00</td>\n",
       "      <td>復興市民路口</td>\n",
       "      <td>00:15:08</td>\n",
       "      <td>2023/2/11</td>\n",
       "      <td>25.04108</td>\n",
       "      <td>121.56290</td>\n",
       "      <td>POINT (121.56290 25.04108)</td>\n",
       "    </tr>\n",
       "  </tbody>\n",
       "</table>\n",
       "</div>"
      ],
      "text/plain": [
       "         rent_time   rent_station      return_time return_station      rent  \\\n",
       "0  2023/2/11 12:00  捷運民權西路站(3號出口)  2023/2/11 13:00  捷運民權西路站(3號出口)  01:02:23   \n",
       "1  2023/2/11 22:00           景美醫院  2023/2/11 23:00      新生和平路口東北側  00:37:03   \n",
       "2  2023/2/11 03:00      基隆忠孝路口西南側  2023/2/11 03:00           中全公園  00:08:42   \n",
       "3  2023/2/11 11:00      基隆忠孝路口西南側  2023/2/11 11:00      基隆忠孝路口西南側  00:15:54   \n",
       "4  2023/2/11 11:00      基隆忠孝路口西南側  2023/2/11 11:00         復興市民路口  00:15:08   \n",
       "\n",
       "    infodate  Latitude  Longitude                    geometry  \n",
       "0  2023/2/11  25.06129  121.52021  POINT (121.52021 25.06129)  \n",
       "1  2023/2/11  24.99136  121.54008  POINT (121.54008 24.99136)  \n",
       "2  2023/2/11  25.04108  121.56290  POINT (121.56290 25.04108)  \n",
       "3  2023/2/11  25.04108  121.56290  POINT (121.56290 25.04108)  \n",
       "4  2023/2/11  25.04108  121.56290  POINT (121.56290 25.04108)  "
      ]
     },
     "execution_count": 72,
     "metadata": {},
     "output_type": "execute_result"
    }
   ],
   "source": [
    "# set coord. to geometry format and set CRS\n",
    "Youbike_rent = Youbike_rent.loc[~np.isnan(Youbike_rent[\"Latitude\"])]\n",
    "Youbike_rent = gpd.GeoDataFrame(\n",
    "    Youbike_rent, geometry=gpd.points_from_xy(Youbike_rent.Longitude, Youbike_rent.Latitude))\n",
    "Youbike_rent.crs = \"EPSG:4326\"    \n",
    "Youbike_rent = Youbike_rent.to_crs(epsg=4326)\n",
    "Youbike_rent.head()"
   ]
  },
  {
   "cell_type": "code",
   "execution_count": 73,
   "metadata": {},
   "outputs": [
    {
     "data": {
      "text/plain": [
       "<Axes: >"
      ]
     },
     "execution_count": 73,
     "metadata": {},
     "output_type": "execute_result"
    },
    {
     "data": {
      "image/png": "[encoded data removed]",
      "text/plain": [
       "<Figure size 640x480 with 1 Axes>"
      ]
     },
     "metadata": {},
     "output_type": "display_data"
    }
   ],
   "source": [
    "Youbike_rent.plot()"
   ]
  },
  {
   "cell_type": "code",
   "execution_count": 74,
   "metadata": {},
   "outputs": [],
   "source": [
    "# read Taipei map\n",
    "Big_Taipei_data = gpd.read_file('./Town/Taipei.shp', encoding='utf-8')\n",
    "Big_Taipei_data.head()\n",
    "Big_Taipei_data = Big_Taipei_data.to_crs(epsg=4326)"
   ]
  },
  {
   "cell_type": "code",
   "execution_count": 75,
   "metadata": {},
   "outputs": [
    {
     "data": {
      "text/html": [
       "<div>\n",
       "<style scoped>\n",
       "    .dataframe tbody tr th:only-of-type {\n",
       "        vertical-align: middle;\n",
       "    }\n",
       "\n",
       "    .dataframe tbody tr th {\n",
       "        vertical-align: top;\n",
       "    }\n",
       "\n",
       "    .dataframe thead th {\n",
       "        text-align: right;\n",
       "    }\n",
       "</style>\n",
       "<table border=\"1\" class=\"dataframe\">\n",
       "  <thead>\n",
       "    <tr style=\"text-align: right;\">\n",
       "      <th></th>\n",
       "      <th>TOWNID</th>\n",
       "      <th>TOWNCODE</th>\n",
       "      <th>COUNTYNAME</th>\n",
       "      <th>TOWNNAME</th>\n",
       "      <th>TOWNENG</th>\n",
       "      <th>COUNTYID</th>\n",
       "      <th>COUNTYCODE</th>\n",
       "      <th>geometry</th>\n",
       "    </tr>\n",
       "  </thead>\n",
       "  <tbody>\n",
       "    <tr>\n",
       "      <th>0</th>\n",
       "      <td>A02</td>\n",
       "      <td>63000030</td>\n",
       "      <td>臺北市</td>\n",
       "      <td>大安區</td>\n",
       "      <td>Da'an District</td>\n",
       "      <td>A</td>\n",
       "      <td>63000</td>\n",
       "      <td>POLYGON ((121.54385 25.04490, 121.54408 25.044...</td>\n",
       "    </tr>\n",
       "    <tr>\n",
       "      <th>1</th>\n",
       "      <td>A11</td>\n",
       "      <td>63000080</td>\n",
       "      <td>臺北市</td>\n",
       "      <td>文山區</td>\n",
       "      <td>Wenshan District</td>\n",
       "      <td>A</td>\n",
       "      <td>63000</td>\n",
       "      <td>POLYGON ((121.59726 25.01438, 121.59725 25.014...</td>\n",
       "    </tr>\n",
       "    <tr>\n",
       "      <th>2</th>\n",
       "      <td>F33</td>\n",
       "      <td>65000040</td>\n",
       "      <td>新北市</td>\n",
       "      <td>永和區</td>\n",
       "      <td>Yonghe District</td>\n",
       "      <td>F</td>\n",
       "      <td>65000</td>\n",
       "      <td>POLYGON ((121.51240 25.02174, 121.51256 25.021...</td>\n",
       "    </tr>\n",
       "    <tr>\n",
       "      <th>3</th>\n",
       "      <td>F07</td>\n",
       "      <td>65000060</td>\n",
       "      <td>新北市</td>\n",
       "      <td>新店區</td>\n",
       "      <td>Xindian District</td>\n",
       "      <td>F</td>\n",
       "      <td>65000</td>\n",
       "      <td>POLYGON ((121.60923 24.96402, 121.60930 24.963...</td>\n",
       "    </tr>\n",
       "    <tr>\n",
       "      <th>4</th>\n",
       "      <td>F19</td>\n",
       "      <td>65000130</td>\n",
       "      <td>新北市</td>\n",
       "      <td>土城區</td>\n",
       "      <td>Tucheng District</td>\n",
       "      <td>F</td>\n",
       "      <td>65000</td>\n",
       "      <td>POLYGON ((121.46715 24.99298, 121.46717 24.993...</td>\n",
       "    </tr>\n",
       "  </tbody>\n",
       "</table>\n",
       "</div>"
      ],
      "text/plain": [
       "  TOWNID  TOWNCODE COUNTYNAME TOWNNAME           TOWNENG COUNTYID COUNTYCODE  \\\n",
       "0    A02  63000030        臺北市      大安區    Da'an District        A      63000   \n",
       "1    A11  63000080        臺北市      文山區  Wenshan District        A      63000   \n",
       "2    F33  65000040        新北市      永和區   Yonghe District        F      65000   \n",
       "3    F07  65000060        新北市      新店區  Xindian District        F      65000   \n",
       "4    F19  65000130        新北市      土城區  Tucheng District        F      65000   \n",
       "\n",
       "                                            geometry  \n",
       "0  POLYGON ((121.54385 25.04490, 121.54408 25.044...  \n",
       "1  POLYGON ((121.59726 25.01438, 121.59725 25.014...  \n",
       "2  POLYGON ((121.51240 25.02174, 121.51256 25.021...  \n",
       "3  POLYGON ((121.60923 24.96402, 121.60930 24.963...  \n",
       "4  POLYGON ((121.46715 24.99298, 121.46717 24.993...  "
      ]
     },
     "execution_count": 75,
     "metadata": {},
     "output_type": "execute_result"
    }
   ],
   "source": [
    "Big_Taipei_data.head()"
   ]
  },
  {
   "cell_type": "code",
   "execution_count": 76,
   "metadata": {},
   "outputs": [
    {
     "name": "stdout",
     "output_type": "stream",
     "text": [
      "EPSG:4326\n",
      "EPSG:4326\n"
     ]
    }
   ],
   "source": [
    "print(Youbike_rent.crs)\n",
    "print(Big_Taipei_data.crs)"
   ]
  },
  {
   "cell_type": "code",
   "execution_count": 77,
   "metadata": {},
   "outputs": [
    {
     "data": {
      "text/html": [
       "<div>\n",
       "<style scoped>\n",
       "    .dataframe tbody tr th:only-of-type {\n",
       "        vertical-align: middle;\n",
       "    }\n",
       "\n",
       "    .dataframe tbody tr th {\n",
       "        vertical-align: top;\n",
       "    }\n",
       "\n",
       "    .dataframe thead th {\n",
       "        text-align: right;\n",
       "    }\n",
       "</style>\n",
       "<table border=\"1\" class=\"dataframe\">\n",
       "  <thead>\n",
       "    <tr style=\"text-align: right;\">\n",
       "      <th></th>\n",
       "      <th>rent_time</th>\n",
       "      <th>rent_station</th>\n",
       "      <th>return_time</th>\n",
       "      <th>return_station</th>\n",
       "      <th>rent</th>\n",
       "      <th>infodate</th>\n",
       "      <th>Latitude</th>\n",
       "      <th>Longitude</th>\n",
       "      <th>geometry</th>\n",
       "      <th>index_right</th>\n",
       "      <th>TOWNID</th>\n",
       "      <th>TOWNCODE</th>\n",
       "      <th>COUNTYNAME</th>\n",
       "      <th>TOWNNAME</th>\n",
       "      <th>TOWNENG</th>\n",
       "      <th>COUNTYID</th>\n",
       "      <th>COUNTYCODE</th>\n",
       "    </tr>\n",
       "  </thead>\n",
       "  <tbody>\n",
       "    <tr>\n",
       "      <th>0</th>\n",
       "      <td>2023/2/11 12:00</td>\n",
       "      <td>捷運民權西路站(3號出口)</td>\n",
       "      <td>2023/2/11 13:00</td>\n",
       "      <td>捷運民權西路站(3號出口)</td>\n",
       "      <td>01:02:23</td>\n",
       "      <td>2023/2/11</td>\n",
       "      <td>25.06129</td>\n",
       "      <td>121.52021</td>\n",
       "      <td>POINT (121.52021 25.06129)</td>\n",
       "      <td>36.0</td>\n",
       "      <td>C05</td>\n",
       "      <td>63000040</td>\n",
       "      <td>臺北市</td>\n",
       "      <td>中山區</td>\n",
       "      <td>Zhongshan District</td>\n",
       "      <td>C</td>\n",
       "      <td>63000</td>\n",
       "    </tr>\n",
       "    <tr>\n",
       "      <th>1</th>\n",
       "      <td>2023/2/11 22:00</td>\n",
       "      <td>景美醫院</td>\n",
       "      <td>2023/2/11 23:00</td>\n",
       "      <td>新生和平路口東北側</td>\n",
       "      <td>00:37:03</td>\n",
       "      <td>2023/2/11</td>\n",
       "      <td>24.99136</td>\n",
       "      <td>121.54008</td>\n",
       "      <td>POINT (121.54008 24.99136)</td>\n",
       "      <td>1.0</td>\n",
       "      <td>A11</td>\n",
       "      <td>63000080</td>\n",
       "      <td>臺北市</td>\n",
       "      <td>文山區</td>\n",
       "      <td>Wenshan District</td>\n",
       "      <td>A</td>\n",
       "      <td>63000</td>\n",
       "    </tr>\n",
       "    <tr>\n",
       "      <th>2</th>\n",
       "      <td>2023/2/11 03:00</td>\n",
       "      <td>基隆忠孝路口西南側</td>\n",
       "      <td>2023/2/11 03:00</td>\n",
       "      <td>中全公園</td>\n",
       "      <td>00:08:42</td>\n",
       "      <td>2023/2/11</td>\n",
       "      <td>25.04108</td>\n",
       "      <td>121.56290</td>\n",
       "      <td>POINT (121.56290 25.04108)</td>\n",
       "      <td>31.0</td>\n",
       "      <td>C07</td>\n",
       "      <td>63000020</td>\n",
       "      <td>臺北市</td>\n",
       "      <td>信義區</td>\n",
       "      <td>Xinyi District</td>\n",
       "      <td>C</td>\n",
       "      <td>63000</td>\n",
       "    </tr>\n",
       "    <tr>\n",
       "      <th>3</th>\n",
       "      <td>2023/2/11 11:00</td>\n",
       "      <td>基隆忠孝路口西南側</td>\n",
       "      <td>2023/2/11 11:00</td>\n",
       "      <td>基隆忠孝路口西南側</td>\n",
       "      <td>00:15:54</td>\n",
       "      <td>2023/2/11</td>\n",
       "      <td>25.04108</td>\n",
       "      <td>121.56290</td>\n",
       "      <td>POINT (121.56290 25.04108)</td>\n",
       "      <td>31.0</td>\n",
       "      <td>C07</td>\n",
       "      <td>63000020</td>\n",
       "      <td>臺北市</td>\n",
       "      <td>信義區</td>\n",
       "      <td>Xinyi District</td>\n",
       "      <td>C</td>\n",
       "      <td>63000</td>\n",
       "    </tr>\n",
       "    <tr>\n",
       "      <th>4</th>\n",
       "      <td>2023/2/11 11:00</td>\n",
       "      <td>基隆忠孝路口西南側</td>\n",
       "      <td>2023/2/11 11:00</td>\n",
       "      <td>復興市民路口</td>\n",
       "      <td>00:15:08</td>\n",
       "      <td>2023/2/11</td>\n",
       "      <td>25.04108</td>\n",
       "      <td>121.56290</td>\n",
       "      <td>POINT (121.56290 25.04108)</td>\n",
       "      <td>31.0</td>\n",
       "      <td>C07</td>\n",
       "      <td>63000020</td>\n",
       "      <td>臺北市</td>\n",
       "      <td>信義區</td>\n",
       "      <td>Xinyi District</td>\n",
       "      <td>C</td>\n",
       "      <td>63000</td>\n",
       "    </tr>\n",
       "  </tbody>\n",
       "</table>\n",
       "</div>"
      ],
      "text/plain": [
       "         rent_time   rent_station      return_time return_station      rent  \\\n",
       "0  2023/2/11 12:00  捷運民權西路站(3號出口)  2023/2/11 13:00  捷運民權西路站(3號出口)  01:02:23   \n",
       "1  2023/2/11 22:00           景美醫院  2023/2/11 23:00      新生和平路口東北側  00:37:03   \n",
       "2  2023/2/11 03:00      基隆忠孝路口西南側  2023/2/11 03:00           中全公園  00:08:42   \n",
       "3  2023/2/11 11:00      基隆忠孝路口西南側  2023/2/11 11:00      基隆忠孝路口西南側  00:15:54   \n",
       "4  2023/2/11 11:00      基隆忠孝路口西南側  2023/2/11 11:00         復興市民路口  00:15:08   \n",
       "\n",
       "    infodate  Latitude  Longitude                    geometry  index_right  \\\n",
       "0  2023/2/11  25.06129  121.52021  POINT (121.52021 25.06129)         36.0   \n",
       "1  2023/2/11  24.99136  121.54008  POINT (121.54008 24.99136)          1.0   \n",
       "2  2023/2/11  25.04108  121.56290  POINT (121.56290 25.04108)         31.0   \n",
       "3  2023/2/11  25.04108  121.56290  POINT (121.56290 25.04108)         31.0   \n",
       "4  2023/2/11  25.04108  121.56290  POINT (121.56290 25.04108)         31.0   \n",
       "\n",
       "  TOWNID  TOWNCODE COUNTYNAME TOWNNAME             TOWNENG COUNTYID COUNTYCODE  \n",
       "0    C05  63000040        臺北市      中山區  Zhongshan District        C      63000  \n",
       "1    A11  63000080        臺北市      文山區    Wenshan District        A      63000  \n",
       "2    C07  63000020        臺北市      信義區      Xinyi District        C      63000  \n",
       "3    C07  63000020        臺北市      信義區      Xinyi District        C      63000  \n",
       "4    C07  63000020        臺北市      信義區      Xinyi District        C      63000  "
      ]
     },
     "execution_count": 77,
     "metadata": {},
     "output_type": "execute_result"
    }
   ],
   "source": [
    "# spatial join\n",
    "Youbike_sjoin = gpd.sjoin(Youbike_rent, Big_Taipei_data, how = 'left')\n",
    "Youbike_sjoin.head()"
   ]
  },
  {
   "cell_type": "code",
   "execution_count": 78,
   "metadata": {},
   "outputs": [
    {
     "data": {
      "text/plain": [
       "<Axes: >"
      ]
     },
     "execution_count": 78,
     "metadata": {},
     "output_type": "execute_result"
    },
    {
     "data": {
      "image/png": "[encoded data removed]",
      "text/plain": [
       "<Figure size 1200x1200 with 1 Axes>"
      ]
     },
     "metadata": {},
     "output_type": "display_data"
    }
   ],
   "source": [
    "# display\n",
    "fig, ax = plt.subplots(figsize=(12, 12))\n",
    "Big_Taipei_data.plot(cmap='Greys', ax=ax, alpha=.5)\n",
    "Youbike_sjoin.plot(color = 'red', ax=ax, markersize = 4)"
   ]
  }
 ],
 "metadata": {
  "kernelspec": {
   "display_name": "GIS",
   "language": "python",
   "name": "python3"
  },
  "language_info": {
   "codemirror_mode": {
    "name": "ipython",
    "version": 3
   },
   "file_extension": ".py",
   "mimetype": "text/x-python",
   "name": "python",
   "nbconvert_exporter": "python",
   "pygments_lexer": "ipython3",
   "version": "3.9.0"
  },
  "orig_nbformat": 4
 },
 "nbformat": 4,
 "nbformat_minor": 2
}
